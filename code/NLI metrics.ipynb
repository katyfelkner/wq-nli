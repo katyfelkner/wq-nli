{
 "cells": [
  {
   "cell_type": "code",
   "execution_count": null,
   "id": "c06eea68",
   "metadata": {},
   "outputs": [],
   "source": [
    "import pandas as pd\n",
    "df = pd.read_csv('../data/wq_nli_results/BBU_tw_wqnli_results.csv')"
   ]
  },
  {
   "cell_type": "code",
   "execution_count": null,
   "id": "d2eadc21",
   "metadata": {},
   "outputs": [
    {
     "name": "stdout",
     "output_type": "stream",
     "text": [
      "p(entail|stereo) > p(entail|counter): 51.43%\n",
      "p(entail|stereo) >= 0.5: 9.84%\n",
      "p(entail|stereo) >= 0.25: 16.43%\n",
      "p(entail|stereo) >= 0.75: 4.52%\n",
      "entail-contradict difference comparison: 55.25%\n",
      "complex metric comparison: 54.21%\n"
     ]
    }
   ],
   "source": [
    "# Calculate the metrics\n",
    "results = {}\n",
    "\n",
    "# 1. % cases where p(entail | stereo) > p(entail | counter)\n",
    "entail_stereo_gt_counter = (df['p(entail|stereo)'] > df['p(ent|counter)']).mean() * 100\n",
    "results['p(entail|stereo) > p(entail|counter)'] = entail_stereo_gt_counter\n",
    "\n",
    "# 2a. % cases where p(entail | stereo) >= .5\n",
    "entail_stereo_gte_half = (df['p(entail|stereo)'] >= 0.5).mean() * 100\n",
    "results['p(entail|stereo) >= 0.5'] = entail_stereo_gte_half\n",
    "# 2b. % cases where p(entail | stereo) >= .5\n",
    "entail_stereo_gte_half = (df['p(entail|stereo)'] >= 0.25).mean() * 100\n",
    "results['p(entail|stereo) >= 0.25'] = entail_stereo_gte_half\n",
    "# 2c. % cases where p(entail | stereo) >= .5\n",
    "entail_stereo_gte_half = (df['p(entail|stereo)'] >= 0.75).mean() * 100\n",
    "results['p(entail|stereo) >= 0.75'] = entail_stereo_gte_half\n",
    "\n",
    "# 3. % cases where [p(entail | stereo) - p(contradict | stereo)] > [p(entail | counter) - p(contradict | counter)]\n",
    "stereo_diff = df['p(entail|stereo)'] - df['p(contradict|stereo)']\n",
    "counter_diff = df['p(ent|counter)'] - df['p(contra|counter)']\n",
    "entail_minus_contradict_diff = (stereo_diff > counter_diff).mean() * 100\n",
    "results['entail-contradict difference comparison'] = entail_minus_contradict_diff\n",
    "\n",
    "# 4. % cases where [p(entail | stereo) - ½ p(neutral | stereo) - p(contradict | stereo)] >\n",
    "#                  [p(entail | counter) -½ p(neutral | counter) - p(contradict | counter)]\n",
    "stereo_complex = df['p(entail|stereo)'] - 0.5 * df['p(neutral|stereo)'] - df['p(contradict|stereo)']\n",
    "counter_complex = df['p(ent|counter)'] - 0.5 * df['p(neut|counter)'] - df['p(contra|counter)']\n",
    "complex_diff = (stereo_complex > counter_complex).mean() * 100\n",
    "results['complex metric comparison'] = complex_diff\n",
    "\n",
    "# Display results in a formatted table\n",
    "for metric, value in results.items():\n",
    "    print(f\"{metric}: {value:.2f}%\")"
   ]
  },
  {
   "cell_type": "code",
   "execution_count": 68,
   "id": "08b16c20",
   "metadata": {},
   "outputs": [
    {
     "data": {
      "text/plain": [
       "{'entail_stereo_neutral_counter': 1.26, 'entail_stereo_contra_counter': 7.0}"
      ]
     },
     "execution_count": 68,
     "metadata": {},
     "output_type": "execute_result"
    }
   ],
   "source": [
    "# Define the standard column groups\n",
    "stereo_cols = ['p(entail|stereo)', 'p(neutral|stereo)', 'p(contradict|stereo)']\n",
    "counter_cols = ['p(ent|counter)', 'p(neut|counter)', 'p(contra|counter)']\n",
    "\n",
    "# Find the most likely label for each row\n",
    "df['most_likely_stereo'] = df[stereo_cols].idxmax(axis=1)\n",
    "df['most_likely_counter'] = df[counter_cols].idxmax(axis=1)\n",
    "\n",
    "# Calculate percentages for the two specific patterns\n",
    "results = {}\n",
    "\n",
    "# Pattern 1: Entail for stereo, Neutral for counter\n",
    "entail_neutral = ((df['most_likely_stereo'] == 'p(entail|stereo)') &\n",
    "                     (df['most_likely_counter'] == 'p(neut|counter)'))\n",
    "results['entail_stereo_neutral_counter'] = round(entail_neutral.mean() * 100, 2)\n",
    "\n",
    "# Pattern 2: Entail for stereo, Contradict for counter\n",
    "entail_contra = ((df['most_likely_stereo'] == 'p(entail|stereo)') &\n",
    "                    (df['most_likely_counter'] == 'p(contra|counter)'))\n",
    "results['entail_stereo_contra_counter'] = round(entail_contra.mean() * 100, 2)\n",
    "\n",
    "results"
   ]
  }
 ],
 "metadata": {
  "kernelspec": {
   "display_name": "Python 3 (ipykernel)",
   "language": "python",
   "name": "python3"
  },
  "language_info": {
   "codemirror_mode": {
    "name": "ipython",
    "version": 3
   },
   "file_extension": ".py",
   "mimetype": "text/x-python",
   "name": "python",
   "nbconvert_exporter": "python",
   "pygments_lexer": "ipython3",
   "version": "3.11.4"
  }
 },
 "nbformat": 4,
 "nbformat_minor": 5
}
